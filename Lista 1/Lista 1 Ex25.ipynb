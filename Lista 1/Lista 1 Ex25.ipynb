{
 "cells": [
  {
   "cell_type": "code",
   "execution_count": null,
   "metadata": {},
   "outputs": [],
   "source": [
    "import math\n",
    "x =(float(input(\"digite a parte x da coordenada:\")))\n",
    "y =(float(input(\"digite a parte y da coordenada:\")))\n",
    "z =(float(input(\"digite a parte z da coordenada:\")))\n",
    "a = x**2 + y**2 + z**2\n",
    "vetor = pow(a,1/2)\n",
    "print(\"a distancia da coordenada inicial (0,0) e:\", vetor)\n"
   ]
  }
 ],
 "metadata": {
  "kernelspec": {
   "display_name": "base",
   "language": "python",
   "name": "python3"
  },
  "language_info": {
   "name": "python",
   "version": "3.9.13 (main, Aug 25 2022, 23:51:50) [MSC v.1916 64 bit (AMD64)]"
  },
  "orig_nbformat": 4,
  "vscode": {
   "interpreter": {
    "hash": "f49206fcf84a9145e7e21228cbafa911d1ac18292303b01e865d8267a9c448f7"
   }
  }
 },
 "nbformat": 4,
 "nbformat_minor": 2
}
