{
 "cells": [
  {
   "cell_type": "code",
   "execution_count": null,
   "metadata": {},
   "outputs": [],
   "source": [
    "import math\n",
    "xa =(float(input(\"digite a parte x do ponto A:\")))\n",
    "ya =(float(input(\"digite a parte y do ponto A:\")))\n",
    "xb =(float(input(\"digite a parte x do ponto B:\")))\n",
    "yb =(float(input(\"digite a parte y do ponto B:\")))\n",
    "x = abs(xa - xb)**2\n",
    "y = abs(ya - yb)**2\n",
    "distancia = pow(x+y,1/2)\n",
    "print(\"o comprimento do segmento de reta e:\", distancia)\n",
    "meiox = max(xa, xb) - (abs(xa - xb))/2\n",
    "meioy = max(ya, yb) - (abs(ya - yb))/2\n",
    "f1 = f\"a coordenada do ponto medio e:({meiox},{meioy})\"\n",
    "print(f1)\n",
    "f2 = f\"a coordenada do ponto B e:({xa},{yb})\"\n",
    "print(f2)\n",
    "f3 = f\"a coordenada do ponto D e:({xb},{ya})\"\n",
    "print(f3)"
   ]
  }
 ],
 "metadata": {
  "kernelspec": {
   "display_name": "base",
   "language": "python",
   "name": "python3"
  },
  "language_info": {
   "name": "python",
   "version": "3.9.13 (main, Aug 25 2022, 23:51:50) [MSC v.1916 64 bit (AMD64)]"
  },
  "orig_nbformat": 4,
  "vscode": {
   "interpreter": {
    "hash": "f49206fcf84a9145e7e21228cbafa911d1ac18292303b01e865d8267a9c448f7"
   }
  }
 },
 "nbformat": 4,
 "nbformat_minor": 2
}
