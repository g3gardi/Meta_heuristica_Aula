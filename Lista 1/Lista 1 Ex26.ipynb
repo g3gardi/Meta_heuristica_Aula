{
 "cells": [
  {
   "cell_type": "code",
   "execution_count": null,
   "metadata": {},
   "outputs": [],
   "source": [
    "import math\n",
    "x =(float(input(\"digite a parte x da coordenada do centro do retangulo:\")))\n",
    "y =(float(input(\"digite a parte y da coordenada do centro do retangulo:\")))\n",
    "altura =(float(input(\"digite a altura do retangulo:\"))) \n",
    "largura =(float(input(\"digite a largura do retangulo:\")))\n",
    "inf_dix = x + largura/2\n",
    "inf_diy = y - altura/2\n",
    "inf_esqx = x - largura/2\n",
    "inf_esqy = y - altura/2\n",
    "sup_dix = x + largura/2\n",
    "sup_diy = y + altura/2\n",
    "sup_esqx = x - largura/2\n",
    "sup_esqy = y + altura/2\n",
    "f1 = f\"a coordenada iferior direita e:({inf_dix},{inf_diy})\"\n",
    "f2 = f\"a coordenada iferior esquerda e:({inf_esqx},{inf_esqy})\"\n",
    "f3 = f\"a coordenada superior direita e:({sup_dix},{sup_diy})\"\n",
    "f4 = f\"a coordenada superior esquerda e:({sup_dix},{sup_diy})\"\n",
    "print(f1)\n",
    "print(f2)\n",
    "print(f3)\n",
    "print(f4)"
   ]
  }
 ],
 "metadata": {
  "kernelspec": {
   "display_name": "base",
   "language": "python",
   "name": "python3"
  },
  "language_info": {
   "name": "python",
   "version": "3.9.13 (main, Aug 25 2022, 23:51:50) [MSC v.1916 64 bit (AMD64)]"
  },
  "orig_nbformat": 4,
  "vscode": {
   "interpreter": {
    "hash": "f49206fcf84a9145e7e21228cbafa911d1ac18292303b01e865d8267a9c448f7"
   }
  }
 },
 "nbformat": 4,
 "nbformat_minor": 2
}
