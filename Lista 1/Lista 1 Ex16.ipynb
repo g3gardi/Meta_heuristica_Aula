{
 "cells": [
  {
   "cell_type": "code",
   "execution_count": null,
   "metadata": {},
   "outputs": [],
   "source": [
    "num_real1 =(float(input(\"digite o valor total:\")))\n",
    "num_real2 = num_real1*0.9\n",
    "print(\"o total a pagar com desconto de 10% e:\", num_real2)\n",
    "num_real3 = num_real1/3\n",
    "print(\"o valor de cada parcela no parcelamento em 3x e:\", num_real3)\n",
    "num_real2 = num_real2*0.05\n",
    "print(\"a comissão do vendedor, no caso da venda a vista e:\", num_real2)\n",
    "num_real1 = num_real1*0.05\n",
    "print(\" a comissão do vendedor, no caso da venda ser parcelada e:\", num_real1)\n"
   ]
  }
 ],
 "metadata": {
  "kernelspec": {
   "display_name": "base",
   "language": "python",
   "name": "python3"
  },
  "language_info": {
   "name": "python",
   "version": "3.9.13 (main, Aug 25 2022, 23:51:50) [MSC v.1916 64 bit (AMD64)]"
  },
  "orig_nbformat": 4,
  "vscode": {
   "interpreter": {
    "hash": "f49206fcf84a9145e7e21228cbafa911d1ac18292303b01e865d8267a9c448f7"
   }
  }
 },
 "nbformat": 4,
 "nbformat_minor": 2
}
