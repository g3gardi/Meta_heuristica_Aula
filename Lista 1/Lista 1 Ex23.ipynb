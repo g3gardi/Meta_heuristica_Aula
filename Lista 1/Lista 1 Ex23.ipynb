{
 "cells": [
  {
   "cell_type": "code",
   "execution_count": null,
   "metadata": {},
   "outputs": [],
   "source": [
    "import math\n",
    "num_real1 =(float(input(\"digite a altura do cilindro circular reto:\")))\n",
    "num_real2 =(float(input(\"digite o raio da base do cilindro circular reto:\")))\n",
    "area_base = math.pi * num_real2**2\n",
    "area_lateral = 2 * math.pi * num_real2 * num_real1\n",
    "area_total = 2 * area_base + area_lateral\n",
    "print(\"a area desse do cilindro circular reto e:\", area_total)\n",
    "print(\"o volume desse do cilindro circular reto e:\", num_real1*math.pi*num_real2**2)"
   ]
  }
 ],
 "metadata": {
  "kernelspec": {
   "display_name": "base",
   "language": "python",
   "name": "python3"
  },
  "language_info": {
   "name": "python",
   "version": "3.9.13 (main, Aug 25 2022, 23:51:50) [MSC v.1916 64 bit (AMD64)]"
  },
  "orig_nbformat": 4,
  "vscode": {
   "interpreter": {
    "hash": "f49206fcf84a9145e7e21228cbafa911d1ac18292303b01e865d8267a9c448f7"
   }
  }
 },
 "nbformat": 4,
 "nbformat_minor": 2
}
