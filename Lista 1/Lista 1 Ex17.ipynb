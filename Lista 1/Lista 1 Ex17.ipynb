{
 "cells": [
  {
   "cell_type": "code",
   "execution_count": null,
   "metadata": {},
   "outputs": [],
   "source": [
    "import math\n",
    "num_real1 =(float(input(\"digite o tamanho dos lados do quadrado:\")))\n",
    "num_real2 = num_real1*4\n",
    "print(\"o perimetro do quadrado e:\", num_real2)\n",
    "num_real3 = num_real1*num_real1\n",
    "print(\"a area do quadrado e:\", num_real3)\n",
    "num_real4 = num_real1*math.pow(2, 1/2)\n",
    "print(\"a diagonal do quadrado e:\", num_real4)\n"
   ]
  }
 ],
 "metadata": {
  "kernelspec": {
   "display_name": "base",
   "language": "python",
   "name": "python3"
  },
  "language_info": {
   "name": "python",
   "version": "3.9.13 (main, Aug 25 2022, 23:51:50) [MSC v.1916 64 bit (AMD64)]"
  },
  "orig_nbformat": 4,
  "vscode": {
   "interpreter": {
    "hash": "f49206fcf84a9145e7e21228cbafa911d1ac18292303b01e865d8267a9c448f7"
   }
  }
 },
 "nbformat": 4,
 "nbformat_minor": 2
}
